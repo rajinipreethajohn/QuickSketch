{
 "cells": [
  {
   "cell_type": "code",
   "execution_count": 2,
   "metadata": {},
   "outputs": [],
   "source": [
    "#Import relevant libraries and packages\n",
    "\n",
    "import cv2\n",
    "import numpy as np\n"
   ]
  },
  {
   "cell_type": "code",
   "execution_count": 3,
   "metadata": {},
   "outputs": [],
   "source": [
    "# Load an image\n",
    "img = cv2.imread('/Users/pree/Desktop/E6051C6A-3A8E-4B63-862A-FA9903203894_1_105_c.jpeg')"
   ]
  },
  {
   "cell_type": "code",
   "execution_count": 4,
   "metadata": {},
   "outputs": [],
   "source": [
    "# Convert the image to grayscale\n",
    "gray_image = cv2.cvtColor(img, cv2.COLOR_BGR2GRAY)"
   ]
  },
  {
   "cell_type": "code",
   "execution_count": 5,
   "metadata": {},
   "outputs": [],
   "source": [
    "# Invert the grayscale image\n",
    "inverted_image = 255 - gray_image"
   ]
  },
  {
   "cell_type": "code",
   "execution_count": 6,
   "metadata": {},
   "outputs": [],
   "source": [
    "# Blur the inverted image\n",
    "blurred_image = cv2.GaussianBlur(inverted_image, (21, 21), 0)"
   ]
  },
  {
   "cell_type": "code",
   "execution_count": 7,
   "metadata": {},
   "outputs": [],
   "source": [
    "# Blend the grayscale image with the blurred image using a \"divide\" blend mode\n",
    "sketch_image = cv2.divide(gray_image, 255 - blurred_image, scale=256)"
   ]
  },
  {
   "cell_type": "code",
   "execution_count": 8,
   "metadata": {},
   "outputs": [],
   "source": [
    "\n",
    "# Wait for a key event\n",
    "key = cv2.waitKey(0)\n",
    "\n",
    "# Save the image if the 's' key is pressed\n",
    "if key == ord('s'):\n",
    "    cv2.imwrite('sketch.jpg', sketch_image)\n",
    "    print('Sketch saved successfully.')\n",
    "\n",
    "# Close the window if the 'q' key is pressed\n",
    "elif key == ord('q'):\n",
    "    cv2.destroyAllWindows()"
   ]
  }
 ],
 "metadata": {
  "kernelspec": {
   "display_name": "ds_env",
   "language": "python",
   "name": "python3"
  },
  "language_info": {
   "codemirror_mode": {
    "name": "ipython",
    "version": 3
   },
   "file_extension": ".py",
   "mimetype": "text/x-python",
   "name": "python",
   "nbconvert_exporter": "python",
   "pygments_lexer": "ipython3",
   "version": "3.10.9"
  },
  "orig_nbformat": 4,
  "vscode": {
   "interpreter": {
    "hash": "5c10b88aa03f1af641217d74e81ba4fa8710519a32d7df49d151ce5b8b915102"
   }
  }
 },
 "nbformat": 4,
 "nbformat_minor": 2
}
